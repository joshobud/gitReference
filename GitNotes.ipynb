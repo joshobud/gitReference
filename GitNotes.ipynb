{
    "metadata": {
        "kernelspec": {
            "name": "powershell",
            "display_name": "PowerShell"
        },
        "language_info": {
            "name": "powershell",
            "codemirror_mode": "shell",
            "mimetype": "text/x-sh",
            "file_extension": ".ps1"
        }
    },
    "nbformat_minor": 2,
    "nbformat": 4,
    "cells": [
        {
            "cell_type": "markdown",
            "source": [
                "# Navigate inside directory for your project"
            ],
            "metadata": {
                "azdata_cell_guid": "fae6ef95-e5e1-4ad6-a12c-5c0e598fbcc6"
            }
        },
        {
            "cell_type": "code",
            "source": [
                "Set-Location C:\\Users\\jobudzinski\\gitProjects\\GitReference\r\n",
                "Get-Location"
            ],
            "metadata": {
                "azdata_cell_guid": "ca161a06-6336-4f2f-a197-892711762763"
            },
            "outputs": [
                {
                    "name": "stdout",
                    "text": "\nPath                                         \n----                                         \nC:\\Users\\jobudzinski\\gitProjects\\GitReference\n\n\n",
                    "output_type": "stream"
                }
            ],
            "execution_count": 2
        },
        {
            "cell_type": "markdown",
            "source": [
                "# Initialize a repository (aka Project)"
            ],
            "metadata": {
                "azdata_cell_guid": "0b239e75-4253-4385-ad13-b0d31550634f"
            }
        },
        {
            "cell_type": "code",
            "source": [
                "Get-Location\r\n",
                "git init"
            ],
            "metadata": {
                "azdata_cell_guid": "61e50d98-5908-4a6b-9afc-28fc9b4f7e04"
            },
            "outputs": [
                {
                    "output_type": "stream",
                    "name": "stdout",
                    "text": "\nReinitialized existing Git repository in C:/Users/jobudzinski/gitProjects/GitReference/.git/\nPath                                         \n----                                         \nC:\\Users\\jobudzinski\\gitProjects\\GitReference\n\n\n"
                }
            ],
            "execution_count": 17
        },
        {
            "cell_type": "markdown",
            "source": [
                "# Check the status of your repository"
            ],
            "metadata": {
                "azdata_cell_guid": "ff4a5aa0-dc67-4a77-b0d3-56b95caa776c"
            }
        },
        {
            "cell_type": "code",
            "source": [
                "Get-Location\r\n",
                "git status"
            ],
            "metadata": {
                "azdata_cell_guid": "ab7aae6d-23aa-4861-8305-5e536f7e7f96"
            },
            "outputs": [
                {
                    "output_type": "stream",
                    "name": "stdout",
                    "text": "\nOn branch main\nChanges to be committed:\n  (use \"git restore --staged <file>...\" to unstage)\n\tmodified:   GitNotes.ipynb\n\nChanges not staged for commit:\n  (use \"git add <file>...\" to update what will be committed)\n  (use \"git restore <file>...\" to discard changes in working directory)\n\tmodified:   GitNotes.ipynb\n\nPath                                         \n----                                         \nC:\\Users\\jobudzinski\\gitProjects\\GitReference\n\n\n"
                }
            ],
            "execution_count": 31
        },
        {
            "cell_type": "markdown",
            "source": [
                "# Add files to staging area, which allows them to be tracked"
            ],
            "metadata": {
                "azdata_cell_guid": "e5b76e6f-80c6-46e9-9104-2093b6c07a18"
            }
        },
        {
            "cell_type": "code",
            "source": [
                "Get-Location\r\n",
                "git add GitNotes.ipynb\r\n",
                "#alternatively the command: git add . #will add all files in directory to staging"
            ],
            "metadata": {
                "azdata_cell_guid": "d32bb799-1c9a-4e54-b4eb-2db906b0e448"
            },
            "outputs": [
                {
                    "output_type": "stream",
                    "name": "stdout",
                    "text": "\nPath                                         \n----                                         \nC:\\Users\\jobudzinski\\gitProjects\\GitReference\n\n\n"
                }
            ],
            "execution_count": 37
        },
        {
            "cell_type": "markdown",
            "source": [
                "# Confirm files added to staging and ready to be committed"
            ],
            "metadata": {
                "azdata_cell_guid": "00406359-e271-4fc7-8274-c8025c74e607"
            }
        },
        {
            "cell_type": "code",
            "source": [
                "Get-Location\r\n",
                "git status"
            ],
            "metadata": {
                "azdata_cell_guid": "a041af2c-a293-414e-acbd-d08c97cecb01"
            },
            "outputs": [
                {
                    "output_type": "stream",
                    "name": "stdout",
                    "text": "\nOn branch main\nChanges to be committed:\n  (use \"git restore --staged <file>...\" to unstage)\n\tmodified:   GitNotes.ipynb\n\nUntracked files:\n  (use \"git add <file>...\" to include in what will be committed)\n\tGibHubNotes.ipynb\n\nPath                                         \n----                                         \nC:\\Users\\jobudzinski\\gitProjects\\GitReference\n\n\n"
                }
            ],
            "execution_count": 38
        },
        {
            "cell_type": "markdown",
            "source": [
                "# Commit project files to local repository"
            ],
            "metadata": {
                "azdata_cell_guid": "8e495d27-8a14-4bca-9eed-127115748ad6"
            }
        },
        {
            "cell_type": "code",
            "source": [
                "Get-Location\r\n",
                "# -m flag is message that carries with your commit\r\n",
                "git commit -m \"Newer version\""
            ],
            "metadata": {
                "azdata_cell_guid": "0b40ff56-ec32-4aac-8bac-b83f724fe510"
            },
            "outputs": [
                {
                    "output_type": "stream",
                    "name": "stdout",
                    "text": "\n[main 3f734a1] Newer version\n 1 file changed, 8 insertions(+), 8 deletions(-)\nPath                                         \n----                                         \nC:\\Users\\jobudzinski\\gitProjects\\GitReference\n\n\n"
                }
            ],
            "execution_count": 39
        },
        {
            "cell_type": "markdown",
            "source": [
                "# View commits for files"
            ],
            "metadata": {
                "azdata_cell_guid": "929cde95-97b0-4046-a7a5-69adde3b1f7a"
            }
        },
        {
            "cell_type": "code",
            "source": [
                "Get-Location\r\n",
                "git log"
            ],
            "metadata": {
                "azdata_cell_guid": "2b07bad0-2622-4f5e-a2e9-251e84f742b7"
            },
            "outputs": [
                {
                    "name": "stdout",
                    "text": "\ncommit b860191efcc7a33a27861f89652c7a9cecf56d6f\nAuthor: Josh Obudzinski <joshua.obudzinski@intuitionllc.com>\nDate:   Fri Oct 23 16:08:27 2020 -0400\n\n    added more notes\n\ncommit 3f734a17d545e9c6d711385a5e414dd6d12d541f\nAuthor: Josh Obudzinski <joshua.obudzinski@intuitionllc.com>\nDate:   Fri Oct 23 14:49:48 2020 -0400\n\n    Newer version\n\ncommit 8ef5e0c6a252adaf60f627b2f54981fc90c7b2d0\nAuthor: Josh Obudzinski <joshua.obudzinski@intuitionllc.com>\nDate:   Fri Oct 23 12:52:33 2020 -0400\n\n    Newest version\n\ncommit 0ad2b27f9710ed3e9d2483df7394d59c26d548e1\nAuthor: Josh Obudzinski <joshua.obudzinski@intuitionllc.com>\nDate:   Fri Oct 23 12:47:01 2020 -0400\n\n    Original version of file\nPath                                         \n----                                         \nC:\\Users\\jobudzinski\\gitProjects\\GitReference\n\n\n",
                    "output_type": "stream"
                }
            ],
            "execution_count": 3
        }
    ]
}