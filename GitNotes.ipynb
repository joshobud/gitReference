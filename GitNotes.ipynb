{
    "metadata": {
        "kernelspec": {
            "name": "powershell",
            "display_name": "PowerShell"
        },
        "language_info": {
            "name": "powershell",
            "codemirror_mode": "shell",
            "mimetype": "text/x-sh",
            "file_extension": ".ps1"
        }
    },
    "nbformat_minor": 2,
    "nbformat": 4,
    "cells": [
        {
            "cell_type": "markdown",
            "source": [
                "# Navigate inside directory for your project"
            ],
            "metadata": {
                "azdata_cell_guid": "fae6ef95-e5e1-4ad6-a12c-5c0e598fbcc6"
            }
        },
        {
            "cell_type": "code",
            "source": [
                "Set-Location C:\\Users\\jobudzinski\\gitProjects\\GitReference\r\n",
                "Get-Location"
            ],
            "metadata": {
                "azdata_cell_guid": "ca161a06-6336-4f2f-a197-892711762763"
            },
            "outputs": [
                {
                    "name": "stdout",
                    "text": "\nPath                                         \n----                                         \nC:\\Users\\jobudzinski\\gitProjects\\GitReference\n\n\n",
                    "output_type": "stream"
                }
            ],
            "execution_count": 14
        },
        {
            "cell_type": "markdown",
            "source": [
                "# Initialize a repository (aka Project)"
            ],
            "metadata": {
                "azdata_cell_guid": "0b239e75-4253-4385-ad13-b0d31550634f"
            }
        },
        {
            "cell_type": "code",
            "source": [
                "Get-Location\r\n",
                "git init"
            ],
            "metadata": {
                "azdata_cell_guid": "61e50d98-5908-4a6b-9afc-28fc9b4f7e04"
            },
            "outputs": [
                {
                    "name": "stdout",
                    "text": "\nReinitialized existing Git repository in C:/Users/jobudzinski/gitProjects/GitReference/.git/\nPath                                         \n----                                         \nC:\\Users\\jobudzinski\\gitProjects\\GitReference\n\n\n",
                    "output_type": "stream"
                }
            ],
            "execution_count": 17
        },
        {
            "cell_type": "markdown",
            "source": [
                "# Check the status of your repository"
            ],
            "metadata": {
                "azdata_cell_guid": "ff4a5aa0-dc67-4a77-b0d3-56b95caa776c"
            }
        },
        {
            "cell_type": "code",
            "source": [
                "Get-Location\r\n",
                "git status"
            ],
            "metadata": {
                "azdata_cell_guid": "ab7aae6d-23aa-4861-8305-5e536f7e7f96"
            },
            "outputs": [
                {
                    "name": "stdout",
                    "text": "\nOn branch main\n\nNo commits yet\n\nChanges to be committed:\n  (use \"git rm --cached <file>...\" to unstage)\n\tnew file:   GitNotes.ipynb\n\nChanges not staged for commit:\n  (use \"git add <file>...\" to update what will be committed)\n  (use \"git restore <file>...\" to discard changes in working directory)\n\tmodified:   GitNotes.ipynb\n\nPath                                         \n----                                         \nC:\\Users\\jobudzinski\\gitProjects\\GitReference\n\n\n",
                    "output_type": "stream"
                }
            ],
            "execution_count": 18
        },
        {
            "cell_type": "markdown",
            "source": [
                "# Add files to staging area, which allows them to be tracked"
            ],
            "metadata": {
                "azdata_cell_guid": "e5b76e6f-80c6-46e9-9104-2093b6c07a18"
            }
        },
        {
            "cell_type": "code",
            "source": [
                "cd C:\\Users\\jobudzinski\\gitProjects\\GitReference\r\n",
                "git add GitNotes.ipynb\r\n",
                "#alternatively the command: git add . #will add all files in directory to staging"
            ],
            "metadata": {
                "azdata_cell_guid": "d32bb799-1c9a-4e54-b4eb-2db906b0e448"
            },
            "outputs": [
                {
                    "name": "stdout",
                    "text": "",
                    "output_type": "stream"
                }
            ],
            "execution_count": 10
        }
    ]
}