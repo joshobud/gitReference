{
    "metadata": {
        "kernelspec": {
            "name": "powershell",
            "display_name": "PowerShell"
        },
        "language_info": {
            "name": "powershell",
            "codemirror_mode": "shell",
            "mimetype": "text/x-sh",
            "file_extension": ".ps1"
        }
    },
    "nbformat_minor": 2,
    "nbformat": 4,
    "cells": [
        {
            "cell_type": "markdown",
            "source": [
                "## Navigate to project directory"
            ],
            "metadata": {
                "azdata_cell_guid": "4a406feb-fa09-474b-b6ae-a53710ca85dd"
            }
        },
        {
            "cell_type": "code",
            "source": [
                "Set-Location C:\\Users\\jobudzinski\\gitProjects\\GitReference\r\n",
                "Get-Location"
            ],
            "metadata": {
                "azdata_cell_guid": "1d370757-fcb1-4de3-8d3a-87aa3655035f"
            },
            "outputs": [
                {
                    "name": "stdout",
                    "text": "\nPath                                         \n----                                         \nC:\\Users\\jobudzinski\\gitProjects\\GitReference\n\n\n",
                    "output_type": "stream"
                }
            ],
            "execution_count": 1
        },
        {
            "cell_type": "markdown",
            "source": [
                "## Check status of files"
            ],
            "metadata": {
                "azdata_cell_guid": "020c31b2-421b-4c23-a6c0-382e110d8645"
            }
        },
        {
            "cell_type": "code",
            "source": [
                "git status"
            ],
            "metadata": {
                "azdata_cell_guid": "2fcf7874-3b86-4e70-a857-935dad61ad1b"
            },
            "outputs": [
                {
                    "name": "stdout",
                    "text": "On branch main\nChanges to be committed:\n  (use \"git restore --staged <file>...\" to unstage)\n\tmodified:   GitNotes.ipynb\n\nUntracked files:\n  (use \"git add <file>...\" to include in what will be committed)\n\tGibHubNotes.ipynb\n\n",
                    "output_type": "stream"
                }
            ],
            "execution_count": 23
        },
        {
            "cell_type": "markdown",
            "source": [
                "## Check if there is already a repo associated to the directory on GitHub\r\n",
                "### (if no results then repo on GitHub has not been configured)"
            ],
            "metadata": {
                "azdata_cell_guid": "c3eb4666-0f20-4a21-b57c-c23bfa0e3d46"
            }
        },
        {
            "cell_type": "code",
            "source": [
                "git remote -v"
            ],
            "metadata": {
                "azdata_cell_guid": "9e69cdb2-2f5c-491e-9eec-2dcf47f99b0e"
            },
            "outputs": [
                {
                    "name": "stdout",
                    "text": "origin\thttps://github.com/joshobud/gitReference.git (fetch)\norigin\thttps://github.com/joshobud/gitReference.git (push)\n",
                    "output_type": "stream"
                }
            ],
            "execution_count": 30
        },
        {
            "cell_type": "markdown",
            "source": [
                "## If needed, add files to stage"
            ],
            "metadata": {
                "azdata_cell_guid": "66b5daea-420b-47e1-9873-6b8beadf5fa2"
            }
        },
        {
            "cell_type": "code",
            "source": [
                "git add GitNotes.ipynb"
            ],
            "metadata": {
                "azdata_cell_guid": "dc7ebb3f-cb47-40d7-87a1-4f96dfe1104f"
            },
            "outputs": [
                {
                    "name": "stdout",
                    "text": "",
                    "output_type": "stream"
                }
            ],
            "execution_count": 22
        },
        {
            "cell_type": "markdown",
            "source": [
                "## Commit changes locally"
            ],
            "metadata": {
                "azdata_cell_guid": "efb319e8-6637-414f-87ae-3a9ca3fc4231"
            }
        },
        {
            "cell_type": "code",
            "source": [
                "git commit -m \"added more notes\""
            ],
            "metadata": {
                "azdata_cell_guid": "a5ad0e2a-5e4a-48fe-8478-6a4e49e3d95e"
            },
            "outputs": [
                {
                    "name": "stdout",
                    "text": "[main f307fdf] added more notes\n 1 file changed, 13 insertions(+), 13 deletions(-)\n",
                    "output_type": "stream"
                }
            ],
            "execution_count": 24
        },
        {
            "cell_type": "markdown",
            "source": [
                "## Verify file status"
            ],
            "metadata": {
                "azdata_cell_guid": "0c047f73-4d7e-4ec6-aaa1-cbb14308a6e7"
            }
        },
        {
            "cell_type": "code",
            "source": [
                "git status"
            ],
            "metadata": {
                "azdata_cell_guid": "4a17ba71-6b31-4b8d-8d48-6c0b98b90a35"
            },
            "outputs": [
                {
                    "name": "stdout",
                    "text": "On branch main\nYour branch is up to date with 'origin/main'.\n\nUntracked files:\n  (use \"git add <file>...\" to include in what will be committed)\n\tGibHubNotes.ipynb\n\nnothing added to commit but untracked files present (use \"git add\" to track)\n",
                    "output_type": "stream"
                }
            ],
            "execution_count": 29
        },
        {
            "cell_type": "markdown",
            "source": [
                "## Associate repo from GitHub"
            ],
            "metadata": {
                "azdata_cell_guid": "377d7200-71b2-42ea-adc2-72d7496c696f"
            }
        },
        {
            "cell_type": "code",
            "source": [
                "# name does not have to be \"origin\", think of this as a variable that you will reference later\r\n",
                "git remote add origin https://github.com/joshobud/gitReference.git"
            ],
            "metadata": {
                "azdata_cell_guid": "7a9bb976-18a2-4a17-a41c-5572b87d8299"
            },
            "outputs": [
                {
                    "name": "stdout",
                    "text": "fatal: remote origin already exists.\n",
                    "output_type": "stream"
                }
            ],
            "execution_count": 14
        },
        {
            "cell_type": "markdown",
            "source": [
                "## If repo was created first on GitHub and files exist, need to perform pull"
            ],
            "metadata": {
                "azdata_cell_guid": "6d177c36-88c4-4542-86f3-a4e223c0a456"
            }
        },
        {
            "cell_type": "code",
            "source": [
                "git pull origin main"
            ],
            "metadata": {
                "azdata_cell_guid": "c0fb6ef5-8fe5-44eb-972a-6ad188736c0c"
            },
            "outputs": [
                {
                    "name": "stdout",
                    "text": "warning: no common commits\nFrom https://github.com/joshobud/gitReference\n * branch            main       -> FETCH_HEAD\n * [new branch]      main       -> origin/main\nfatal: refusing to merge unrelated histories\n",
                    "output_type": "stream"
                }
            ],
            "execution_count": 16
        },
        {
            "cell_type": "markdown",
            "source": [
                "## Push changes to GitHub repo"
            ],
            "metadata": {
                "azdata_cell_guid": "ef748de7-0880-453d-ba85-f7320c82044d"
            }
        },
        {
            "cell_type": "code",
            "source": [
                "# need to reference name of repo in previous step, so replace \"origin\" if something different\r\n",
                "# use option --force if repo was created on GitHub prior, this will overwrite the GitHub repo with local\r\n",
                "git push -u origin main"
            ],
            "metadata": {
                "azdata_cell_guid": "8a5649c2-7e58-4321-b38f-60ad220c7192"
            },
            "outputs": [
                {
                    "name": "stdout",
                    "text": "Branch 'main' set up to track remote branch 'main' from 'origin'.\nTo https://github.com/joshobud/gitReference.git\n + 66fdcf6...f307fdf main -> main (forced update)\n",
                    "output_type": "stream"
                }
            ],
            "execution_count": 28
        }
    ]
}